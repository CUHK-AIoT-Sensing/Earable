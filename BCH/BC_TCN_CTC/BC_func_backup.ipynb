{
 "cells": [
  {
   "cell_type": "code",
   "execution_count": null,
   "metadata": {},
   "outputs": [],
   "source": [
    "import csv\n",
    "\n",
    "# convert dict file to csv file\n",
    "# Read the CMU dictionary file\n",
    "with open('./cmudict-master/cmudict.dict', 'r') as dict_file:\n",
    "    lines = dict_file.readlines()\n",
    "\n",
    "# Write to a CSV file\n",
    "with open('cmudict.csv', 'w', newline='') as csv_file:\n",
    "    writer = csv.writer(csv_file)\n",
    "    writer.writerow(['Word', 'Phonemes'])  # Write the header\n",
    "\n",
    "    for line in lines:\n",
    "        if not line.startswith(';;;'):  # Skip comment lines\n",
    "            parts = line.strip().split('  ')\n",
    "            word = parts[0]\n",
    "            phonemes = parts[1] if len(parts) > 1 else ''\n",
    "            writer.writerow([word, phonemes])"
   ]
  }
 ],
 "metadata": {
  "language_info": {
   "name": "python"
  }
 },
 "nbformat": 4,
 "nbformat_minor": 2
}
